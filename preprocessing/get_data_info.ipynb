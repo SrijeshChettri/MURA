{
 "cells": [
  {
   "cell_type": "code",
   "execution_count": 1,
   "metadata": {},
   "outputs": [],
   "source": [
    "import pandas as pd\n",
    "\n",
    "def generate_data_info(csv_fn):\n",
    "    \"\"\"\n",
    "    Extract the information by patient and body part with the filename to any\n",
    "    image of the MURA-v1.1 dataset to facilitate the access and sorting.\n",
    "    ----------\n",
    "    INPUT\n",
    "        |---- csv_fn (str) the filename of the csv of filename\n",
    "    OUTPUT\n",
    "        |---- df (pandas.dataframe) of image filename with additional information\n",
    "        |         to facilitate access of data : if a patient has any abnormal XR\n",
    "        |         or if a patient has any abnormal XR for a given body part.\n",
    "    \"\"\"\n",
    "    df_fn = pd.read_csv(csv_fn, header=None, names=['filename'])\n",
    "    df_info = pd.read_csv(csv_fn, \\\n",
    "                          header=None, names=['body_part','patientID','study'], \\\n",
    "                          sep='/', usecols=[2,3,4])\n",
    "    df = pd.concat([df_info, df_fn], axis=1)\n",
    "    # remove MURA-v1.1/train or MURA-v1.1/valid\n",
    "    df.filename = df.filename.apply(lambda s: s[16:])\n",
    "    # remove XR_\n",
    "    df.body_part = df.body_part.apply(lambda s: s[3:])\n",
    "    # create the label : 1 if positive, else 0\n",
    "    df['label'] = df.study.apply(lambda s: 0 if s[7:] == 'negative' else 1)\n",
    "    df.drop(columns={'study'}, inplace=True)\n",
    "    # get if a patient has only/no/some abnormal xray for a given body part\n",
    "    df_abnormal_bp = df[['patientID','body_part','label']].groupby(['patientID','body_part']).mean() \\\n",
    "                                                          .reset_index()\n",
    "    df_abnormal_bp.label = df_abnormal_bp.label.apply(lambda x: 0.5 if ((x>0) and (x<1)) else x)\n",
    "    # get if a patient has an abnormal xray on any body part\n",
    "    df_abnormal_all = df[['patientID','label']].groupby('patientID').mean()\n",
    "    df_abnormal_all.label = df_abnormal_all.label.apply(lambda x: 0.5 if ((x>0) and (x<1)) else x)\n",
    "    # merge with the whole dataframe\n",
    "    df = pd.merge(df, df_abnormal_all, how='outer', left_on='patientID', right_index=True) \\\n",
    "           .rename(columns={'label_x':'abnormal_XR', 'label_y':'patient_any_abnormal'})\n",
    "    df = pd.merge(df, df_abnormal_bp, how='outer', left_on=['patientID','body_part'], right_on=['patientID','body_part']) \\\n",
    "           .rename(columns={'label':'body_part_abnormal'})\n",
    "\n",
    "    return df"
   ]
  },
  {
   "cell_type": "code",
   "execution_count": null,
   "metadata": {},
   "outputs": [],
   "source": []
  }
 ],
 "metadata": {
  "kernelspec": {
   "display_name": "Python 3",
   "language": "python",
   "name": "python3"
  },
  "language_info": {
   "codemirror_mode": {
    "name": "ipython",
    "version": 3
   },
   "file_extension": ".py",
   "mimetype": "text/x-python",
   "name": "python",
   "nbconvert_exporter": "python",
   "pygments_lexer": "ipython3",
   "version": "3.7.4"
  }
 },
 "nbformat": 4,
 "nbformat_minor": 4
}
