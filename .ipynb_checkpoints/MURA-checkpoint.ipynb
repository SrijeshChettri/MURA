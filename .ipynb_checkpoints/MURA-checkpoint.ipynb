{
 "cells": [
  {
   "cell_type": "markdown",
   "metadata": {},
   "source": [
    "`MURA` - *EDA*"
   ]
  },
  {
   "cell_type": "code",
   "execution_count": 274,
   "metadata": {},
   "outputs": [],
   "source": [
    "import os\n",
    "import pandas as pd\n",
    "import numpy as np\n",
    "import torch\n",
    "import sys\n",
    "from glob import glob\n",
    "import skimage\n",
    "import skimage.io\n",
    "\n",
    "import matplotlib.pyplot as plt\n",
    "from IPython.display import Image\n",
    "\n",
    "from zipfile import ZipFile"
   ]
  },
  {
   "cell_type": "code",
   "execution_count": 231,
   "metadata": {},
   "outputs": [],
   "source": [
    "from preprocessing.get_data_info import generate_data_info\n",
    "from preprocessing.cropping_rect import find_squares, crop_squares\n",
    "from preprocessing.segmentation import find_best_mask"
   ]
  },
  {
   "cell_type": "code",
   "execution_count": 62,
   "metadata": {},
   "outputs": [],
   "source": [
    "pd.set_option('max_colwidth',500)"
   ]
  },
  {
   "cell_type": "code",
   "execution_count": 4,
   "metadata": {},
   "outputs": [],
   "source": [
    "zp = ZipFile(r\"C:\\Users\\srije\\Documents\\LJMU\\Dataset\\MURA-v1.1.zip\")\n",
    "zp.extractall(r\"C:\\Users\\srije\\Documents\\LJMU\\Dataset\")\n",
    "zp.close()"
   ]
  },
  {
   "cell_type": "code",
   "execution_count": 59,
   "metadata": {},
   "outputs": [
    {
     "data": {
      "text/plain": [
       "((36808, 1), (13457, 2))"
      ]
     },
     "execution_count": 59,
     "metadata": {},
     "output_type": "execute_result"
    }
   ],
   "source": [
    "#Training image set & Training studies labeled\n",
    "\n",
    "train_path = pd.read_csv(r\"C:\\Users\\srije\\Documents\\LJMU\\Dataset\\MURA-v1.1\\train_image_paths.csv\", \n",
    "                         header=None, \n",
    "                         names=['image_pth']\n",
    "                        )\n",
    "train_path_labeled = pd.read_csv(r\"C:\\Users\\srije\\Documents\\LJMU\\Dataset\\MURA-v1.1\\train_labeled_studies.csv\",\n",
    "                                 header=None,\n",
    "                                 names = ['study_pth','label']\n",
    "                                )\n",
    "\n",
    "train_path.shape, train_path_labeled.shape"
   ]
  },
  {
   "cell_type": "code",
   "execution_count": 239,
   "metadata": {},
   "outputs": [
    {
     "data": {
      "text/html": [
       "<div>\n",
       "<style scoped>\n",
       "    .dataframe tbody tr th:only-of-type {\n",
       "        vertical-align: middle;\n",
       "    }\n",
       "\n",
       "    .dataframe tbody tr th {\n",
       "        vertical-align: top;\n",
       "    }\n",
       "\n",
       "    .dataframe thead th {\n",
       "        text-align: right;\n",
       "    }\n",
       "</style>\n",
       "<table border=\"1\" class=\"dataframe\">\n",
       "  <thead>\n",
       "    <tr style=\"text-align: right;\">\n",
       "      <th></th>\n",
       "      <th>image_pth</th>\n",
       "    </tr>\n",
       "  </thead>\n",
       "  <tbody>\n",
       "    <tr>\n",
       "      <th>0</th>\n",
       "      <td>MURA-v1.1/train/XR_SHOULDER/patient00001/study1_positive/image1.png</td>\n",
       "    </tr>\n",
       "    <tr>\n",
       "      <th>1</th>\n",
       "      <td>MURA-v1.1/train/XR_SHOULDER/patient00001/study1_positive/image2.png</td>\n",
       "    </tr>\n",
       "    <tr>\n",
       "      <th>2</th>\n",
       "      <td>MURA-v1.1/train/XR_SHOULDER/patient00001/study1_positive/image3.png</td>\n",
       "    </tr>\n",
       "    <tr>\n",
       "      <th>3</th>\n",
       "      <td>MURA-v1.1/train/XR_SHOULDER/patient00002/study1_positive/image1.png</td>\n",
       "    </tr>\n",
       "    <tr>\n",
       "      <th>4</th>\n",
       "      <td>MURA-v1.1/train/XR_SHOULDER/patient00002/study1_positive/image2.png</td>\n",
       "    </tr>\n",
       "  </tbody>\n",
       "</table>\n",
       "</div>"
      ],
      "text/plain": [
       "                                                             image_pth\n",
       "0  MURA-v1.1/train/XR_SHOULDER/patient00001/study1_positive/image1.png\n",
       "1  MURA-v1.1/train/XR_SHOULDER/patient00001/study1_positive/image2.png\n",
       "2  MURA-v1.1/train/XR_SHOULDER/patient00001/study1_positive/image3.png\n",
       "3  MURA-v1.1/train/XR_SHOULDER/patient00002/study1_positive/image1.png\n",
       "4  MURA-v1.1/train/XR_SHOULDER/patient00002/study1_positive/image2.png"
      ]
     },
     "execution_count": 239,
     "metadata": {},
     "output_type": "execute_result"
    }
   ],
   "source": [
    "train_path.head()"
   ]
  },
  {
   "cell_type": "code",
   "execution_count": 60,
   "metadata": {},
   "outputs": [
    {
     "data": {
      "text/plain": [
       "((3197, 1), (1199, 2))"
      ]
     },
     "execution_count": 60,
     "metadata": {},
     "output_type": "execute_result"
    }
   ],
   "source": [
    "#Validation image set & Validation studies labeled\n",
    "\n",
    "valid_path = pd.read_csv(r\"C:\\Users\\srije\\Documents\\LJMU\\Dataset\\MURA-v1.1\\valid_image_paths.csv\",\n",
    "                         header=None,\n",
    "                         names=['image_pth']\n",
    "                        )\n",
    "valid_path_labeled = pd.read_csv(r\"C:\\Users\\srije\\Documents\\LJMU\\Dataset\\MURA-v1.1\\valid_labeled_studies.csv\", \n",
    "                                 header=None,\n",
    "                                 names = ['study_pth','label']\n",
    "                                )\n",
    "\n",
    "valid_path.shape, valid_path_labeled.shape"
   ]
  },
  {
   "cell_type": "code",
   "execution_count": 64,
   "metadata": {},
   "outputs": [
    {
     "data": {
      "text/html": [
       "<div>\n",
       "<style scoped>\n",
       "    .dataframe tbody tr th:only-of-type {\n",
       "        vertical-align: middle;\n",
       "    }\n",
       "\n",
       "    .dataframe tbody tr th {\n",
       "        vertical-align: top;\n",
       "    }\n",
       "\n",
       "    .dataframe thead th {\n",
       "        text-align: right;\n",
       "    }\n",
       "</style>\n",
       "<table border=\"1\" class=\"dataframe\">\n",
       "  <thead>\n",
       "    <tr style=\"text-align: right;\">\n",
       "      <th></th>\n",
       "      <th>image_pth</th>\n",
       "    </tr>\n",
       "  </thead>\n",
       "  <tbody>\n",
       "    <tr>\n",
       "      <th>0</th>\n",
       "      <td>MURA-v1.1/train/XR_SHOULDER/patient00001/study1_positive/image1.png</td>\n",
       "    </tr>\n",
       "    <tr>\n",
       "      <th>1</th>\n",
       "      <td>MURA-v1.1/train/XR_SHOULDER/patient00001/study1_positive/image2.png</td>\n",
       "    </tr>\n",
       "    <tr>\n",
       "      <th>2</th>\n",
       "      <td>MURA-v1.1/train/XR_SHOULDER/patient00001/study1_positive/image3.png</td>\n",
       "    </tr>\n",
       "    <tr>\n",
       "      <th>3</th>\n",
       "      <td>MURA-v1.1/train/XR_SHOULDER/patient00002/study1_positive/image1.png</td>\n",
       "    </tr>\n",
       "    <tr>\n",
       "      <th>4</th>\n",
       "      <td>MURA-v1.1/train/XR_SHOULDER/patient00002/study1_positive/image2.png</td>\n",
       "    </tr>\n",
       "  </tbody>\n",
       "</table>\n",
       "</div>"
      ],
      "text/plain": [
       "                                                             image_pth\n",
       "0  MURA-v1.1/train/XR_SHOULDER/patient00001/study1_positive/image1.png\n",
       "1  MURA-v1.1/train/XR_SHOULDER/patient00001/study1_positive/image2.png\n",
       "2  MURA-v1.1/train/XR_SHOULDER/patient00001/study1_positive/image3.png\n",
       "3  MURA-v1.1/train/XR_SHOULDER/patient00002/study1_positive/image1.png\n",
       "4  MURA-v1.1/train/XR_SHOULDER/patient00002/study1_positive/image2.png"
      ]
     },
     "execution_count": 64,
     "metadata": {},
     "output_type": "execute_result"
    }
   ],
   "source": [
    "train_path.head()"
   ]
  },
  {
   "cell_type": "code",
   "execution_count": 65,
   "metadata": {},
   "outputs": [
    {
     "data": {
      "text/plain": [
       "'C:\\\\Users\\\\srije\\\\Documents\\\\LJMU\\\\Code'"
      ]
     },
     "execution_count": 65,
     "metadata": {},
     "output_type": "execute_result"
    }
   ],
   "source": [
    "pwd"
   ]
  },
  {
   "cell_type": "code",
   "execution_count": 48,
   "metadata": {},
   "outputs": [
    {
     "name": "stdout",
     "output_type": "stream",
     "text": [
      "MURA-v1.1/train/XR_SHOULDER/patient00002/study1_positive/image1.png\n"
     ]
    },
    {
     "data": {
      "image/png": "[encoded data removed]",
      "text/plain": [
       "<IPython.core.display.Image object>"
      ]
     },
     "execution_count": 48,
     "metadata": {},
     "output_type": "execute_result"
    }
   ],
   "source": [
    "#train sample\n",
    "image_path = \"C:\\\\Users\\\\srije\\\\Documents\\\\LJMU\\\\Dataset\\\\\"+train_path.iloc[3][0].replace(\"/\",\"\\\\\")\n",
    "print(train_path.iloc[3][0])\n",
    "Image(image_path)"
   ]
  },
  {
   "cell_type": "code",
   "execution_count": 49,
   "metadata": {},
   "outputs": [
    {
     "name": "stdout",
     "output_type": "stream",
     "text": [
      "MURA-v1.1/train/XR_SHOULDER/patient00002/study1_positive/image1.png\n"
     ]
    },
    {
     "data": {
      "image/png": "[encoded data removed]",
      "text/plain": [
       "<IPython.core.display.Image object>"
      ]
     },
     "execution_count": 49,
     "metadata": {},
     "output_type": "execute_result"
    }
   ],
   "source": [
    "#train sample\n",
    "image_path = \"C:\\\\Users\\\\srije\\\\Documents\\\\LJMU\\\\Dataset\\\\\"+valid_path.iloc[3][0].replace(\"/\",\"\\\\\")\n",
    "print(train_path.iloc[3][0])\n",
    "Image(image_path)"
   ]
  },
  {
   "cell_type": "code",
   "execution_count": null,
   "metadata": {},
   "outputs": [],
   "source": []
  },
  {
   "cell_type": "markdown",
   "metadata": {},
   "source": [
    "`MURA: Large Dataset for Abnormality Detection in Musculoskeletal Radiographs` <br>\n",
    "- *On forearm, humerus, and shoulder studies, model performance is lower than the worst radiologist performance*\n",
    "\n",
    "- **We will only consider studies related to forearm for analysis & try to improve model performance and interpretability**"
   ]
  },
  {
   "cell_type": "code",
   "execution_count": null,
   "metadata": {},
   "outputs": [],
   "source": [
    "# C:\\Users\\srije\\Documents\\LJMU\\Dataset\\MURA-v1.1\\train\\XR_FOREARM\\patient00063\\study1_positive\\"
   ]
  },
  {
   "cell_type": "code",
   "execution_count": 302,
   "metadata": {},
   "outputs": [],
   "source": [
    "train_pth = 'C:\\\\Users\\\\srije\\\\Documents\\\\LJMU\\\\Dataset\\\\MURA-v1.1\\\\train\\\\XR_FOREARM\\\\'\n",
    "valid_pth = 'C:\\\\Users\\\\srije\\\\Documents\\\\LJMU\\\\Dataset\\\\MURA-v1.1\\\\valid\\\\XR_FOREARM\\\\'"
   ]
  },
  {
   "cell_type": "code",
   "execution_count": 188,
   "metadata": {},
   "outputs": [],
   "source": [
    "# Patients list\n",
    "def patient_lst(pth):\n",
    "    forearm_dir = list(os.walk(pth))\n",
    "    patients = forearm_dir[0][1]\n",
    "#     print(f'Patient Count: {len(patients)}')\n",
    "    return patients"
   ]
  },
  {
   "cell_type": "code",
   "execution_count": 217,
   "metadata": {},
   "outputs": [],
   "source": [
    "# Patient details: Studies and images\n",
    "\n",
    "def patient_details(pth):\n",
    "    patient_details = {}\n",
    "    patients = patient_lst(pth)\n",
    "    \n",
    "    for ptn in patients:\n",
    "        path = pth + ptn + r'\\\\'\n",
    "        studies = list(os.walk(path))[0][1]\n",
    "\n",
    "        studies_img = {}\n",
    "        for std in studies:\n",
    "            img_pth = path + std + r'\\\\'\n",
    "            img = list(os.walk(img_pth))[0][2]\n",
    "\n",
    "            studies_img[std] = img\n",
    "\n",
    "        patient_details[ptn] = studies_img\n",
    "        \n",
    "    return patient_details"
   ]
  },
  {
   "cell_type": "code",
   "execution_count": 235,
   "metadata": {},
   "outputs": [],
   "source": [
    "# patient_details(train_pth)"
   ]
  },
  {
   "cell_type": "code",
   "execution_count": 236,
   "metadata": {},
   "outputs": [],
   "source": [
    "# patient_details(valid_pth)"
   ]
  },
  {
   "cell_type": "code",
   "execution_count": 237,
   "metadata": {},
   "outputs": [
    {
     "data": {
      "text/plain": [
       "((36808, 6), (3197, 6))"
      ]
     },
     "execution_count": 237,
     "metadata": {},
     "output_type": "execute_result"
    }
   ],
   "source": [
    "#get details out of train_image_paths.csv file\n",
    "\n",
    "df_train_data = generate_data_info(r\"C:\\Users\\srije\\Documents\\LJMU\\Dataset\\MURA-v1.1\\train_image_paths.csv\")\n",
    "df_valid_data = generate_data_info(r\"C:\\Users\\srije\\Documents\\LJMU\\Dataset\\MURA-v1.1\\valid_image_paths.csv\")\n",
    "\n",
    "df_train_data.shape, df_valid_data.shape"
   ]
  },
  {
   "cell_type": "code",
   "execution_count": 242,
   "metadata": {},
   "outputs": [
    {
     "data": {
      "text/html": [
       "<div>\n",
       "<style scoped>\n",
       "    .dataframe tbody tr th:only-of-type {\n",
       "        vertical-align: middle;\n",
       "    }\n",
       "\n",
       "    .dataframe tbody tr th {\n",
       "        vertical-align: top;\n",
       "    }\n",
       "\n",
       "    .dataframe thead th {\n",
       "        text-align: right;\n",
       "    }\n",
       "</style>\n",
       "<table border=\"1\" class=\"dataframe\">\n",
       "  <thead>\n",
       "    <tr style=\"text-align: right;\">\n",
       "      <th></th>\n",
       "      <th>body_part</th>\n",
       "      <th>patientID</th>\n",
       "      <th>filename</th>\n",
       "      <th>abnormal_XR</th>\n",
       "      <th>patient_any_abnormal</th>\n",
       "      <th>body_part_abnormal</th>\n",
       "    </tr>\n",
       "  </thead>\n",
       "  <tbody>\n",
       "    <tr>\n",
       "      <th>0</th>\n",
       "      <td>SHOULDER</td>\n",
       "      <td>patient00001</td>\n",
       "      <td>XR_SHOULDER/patient00001/study1_positive/image1.png</td>\n",
       "      <td>1</td>\n",
       "      <td>1.0</td>\n",
       "      <td>1.0</td>\n",
       "    </tr>\n",
       "    <tr>\n",
       "      <th>1</th>\n",
       "      <td>SHOULDER</td>\n",
       "      <td>patient00001</td>\n",
       "      <td>XR_SHOULDER/patient00001/study1_positive/image2.png</td>\n",
       "      <td>1</td>\n",
       "      <td>1.0</td>\n",
       "      <td>1.0</td>\n",
       "    </tr>\n",
       "    <tr>\n",
       "      <th>2</th>\n",
       "      <td>SHOULDER</td>\n",
       "      <td>patient00001</td>\n",
       "      <td>XR_SHOULDER/patient00001/study1_positive/image3.png</td>\n",
       "      <td>1</td>\n",
       "      <td>1.0</td>\n",
       "      <td>1.0</td>\n",
       "    </tr>\n",
       "    <tr>\n",
       "      <th>3</th>\n",
       "      <td>SHOULDER</td>\n",
       "      <td>patient00002</td>\n",
       "      <td>XR_SHOULDER/patient00002/study1_positive/image1.png</td>\n",
       "      <td>1</td>\n",
       "      <td>1.0</td>\n",
       "      <td>1.0</td>\n",
       "    </tr>\n",
       "    <tr>\n",
       "      <th>4</th>\n",
       "      <td>SHOULDER</td>\n",
       "      <td>patient00002</td>\n",
       "      <td>XR_SHOULDER/patient00002/study1_positive/image2.png</td>\n",
       "      <td>1</td>\n",
       "      <td>1.0</td>\n",
       "      <td>1.0</td>\n",
       "    </tr>\n",
       "  </tbody>\n",
       "</table>\n",
       "</div>"
      ],
      "text/plain": [
       "  body_part     patientID  \\\n",
       "0  SHOULDER  patient00001   \n",
       "1  SHOULDER  patient00001   \n",
       "2  SHOULDER  patient00001   \n",
       "3  SHOULDER  patient00002   \n",
       "4  SHOULDER  patient00002   \n",
       "\n",
       "                                              filename  abnormal_XR  \\\n",
       "0  XR_SHOULDER/patient00001/study1_positive/image1.png            1   \n",
       "1  XR_SHOULDER/patient00001/study1_positive/image2.png            1   \n",
       "2  XR_SHOULDER/patient00001/study1_positive/image3.png            1   \n",
       "3  XR_SHOULDER/patient00002/study1_positive/image1.png            1   \n",
       "4  XR_SHOULDER/patient00002/study1_positive/image2.png            1   \n",
       "\n",
       "   patient_any_abnormal  body_part_abnormal  \n",
       "0                   1.0                 1.0  \n",
       "1                   1.0                 1.0  \n",
       "2                   1.0                 1.0  \n",
       "3                   1.0                 1.0  \n",
       "4                   1.0                 1.0  "
      ]
     },
     "execution_count": 242,
     "metadata": {},
     "output_type": "execute_result"
    }
   ],
   "source": [
    "df_train_data.head(5)"
   ]
  },
  {
   "cell_type": "code",
   "execution_count": 253,
   "metadata": {},
   "outputs": [
    {
     "name": "stderr",
     "output_type": "stream",
     "text": [
      "C:\\Users\\srije\\Miniconda3\\lib\\site-packages\\ipykernel_launcher.py:6: SettingWithCopyWarning: \n",
      "A value is trying to be set on a copy of a slice from a DataFrame.\n",
      "Try using .loc[row_indexer,col_indexer] = value instead\n",
      "\n",
      "See the caveats in the documentation: https://pandas.pydata.org/pandas-docs/stable/user_guide/indexing.html#returning-a-view-versus-a-copy\n",
      "  \n",
      "C:\\Users\\srije\\Miniconda3\\lib\\site-packages\\ipykernel_launcher.py:7: SettingWithCopyWarning: \n",
      "A value is trying to be set on a copy of a slice from a DataFrame.\n",
      "Try using .loc[row_indexer,col_indexer] = value instead\n",
      "\n",
      "See the caveats in the documentation: https://pandas.pydata.org/pandas-docs/stable/user_guide/indexing.html#returning-a-view-versus-a-copy\n",
      "  import sys\n"
     ]
    },
    {
     "data": {
      "text/plain": [
       "((1825, 7), (301, 7))"
      ]
     },
     "execution_count": 253,
     "metadata": {},
     "output_type": "execute_result"
    }
   ],
   "source": [
    "#get inscope images for forearm\n",
    "\n",
    "df_train_data_fore = df_train_data[df_train_data['body_part']==\"FOREARM\"]\n",
    "df_valid_data_fore = df_valid_data[df_valid_data['body_part']==\"FOREARM\"]\n",
    "\n",
    "df_train_data_fore['image_cat'] = 'train'\n",
    "df_valid_data_fore['image_cat'] = 'valid'\n",
    "\n",
    "df_train_data_fore.shape, df_valid_data_fore.shape"
   ]
  },
  {
   "cell_type": "code",
   "execution_count": 256,
   "metadata": {},
   "outputs": [
    {
     "data": {
      "text/html": [
       "<div>\n",
       "<style scoped>\n",
       "    .dataframe tbody tr th:only-of-type {\n",
       "        vertical-align: middle;\n",
       "    }\n",
       "\n",
       "    .dataframe tbody tr th {\n",
       "        vertical-align: top;\n",
       "    }\n",
       "\n",
       "    .dataframe thead th {\n",
       "        text-align: right;\n",
       "    }\n",
       "</style>\n",
       "<table border=\"1\" class=\"dataframe\">\n",
       "  <thead>\n",
       "    <tr style=\"text-align: right;\">\n",
       "      <th></th>\n",
       "      <th>index</th>\n",
       "      <th>body_part</th>\n",
       "      <th>patientID</th>\n",
       "      <th>filename</th>\n",
       "      <th>abnormal_XR</th>\n",
       "      <th>patient_any_abnormal</th>\n",
       "      <th>body_part_abnormal</th>\n",
       "      <th>image_cat</th>\n",
       "    </tr>\n",
       "  </thead>\n",
       "  <tbody>\n",
       "    <tr>\n",
       "      <th>0</th>\n",
       "      <td>261</td>\n",
       "      <td>FOREARM</td>\n",
       "      <td>patient00063</td>\n",
       "      <td>XR_FOREARM/patient00063/study1_positive/image1.png</td>\n",
       "      <td>1</td>\n",
       "      <td>1.0</td>\n",
       "      <td>1.0</td>\n",
       "      <td>train</td>\n",
       "    </tr>\n",
       "    <tr>\n",
       "      <th>1</th>\n",
       "      <td>262</td>\n",
       "      <td>FOREARM</td>\n",
       "      <td>patient00063</td>\n",
       "      <td>XR_FOREARM/patient00063/study1_positive/image2.png</td>\n",
       "      <td>1</td>\n",
       "      <td>1.0</td>\n",
       "      <td>1.0</td>\n",
       "      <td>train</td>\n",
       "    </tr>\n",
       "    <tr>\n",
       "      <th>2</th>\n",
       "      <td>275</td>\n",
       "      <td>FOREARM</td>\n",
       "      <td>patient00067</td>\n",
       "      <td>XR_FOREARM/patient00067/study1_negative/image1.png</td>\n",
       "      <td>0</td>\n",
       "      <td>0.5</td>\n",
       "      <td>0.0</td>\n",
       "      <td>train</td>\n",
       "    </tr>\n",
       "    <tr>\n",
       "      <th>3</th>\n",
       "      <td>276</td>\n",
       "      <td>FOREARM</td>\n",
       "      <td>patient00067</td>\n",
       "      <td>XR_FOREARM/patient00067/study1_negative/image2.png</td>\n",
       "      <td>0</td>\n",
       "      <td>0.5</td>\n",
       "      <td>0.0</td>\n",
       "      <td>train</td>\n",
       "    </tr>\n",
       "    <tr>\n",
       "      <th>4</th>\n",
       "      <td>286</td>\n",
       "      <td>FOREARM</td>\n",
       "      <td>patient00069</td>\n",
       "      <td>XR_FOREARM/patient00069/study1_negative/image1.png</td>\n",
       "      <td>0</td>\n",
       "      <td>0.5</td>\n",
       "      <td>0.0</td>\n",
       "      <td>train</td>\n",
       "    </tr>\n",
       "  </tbody>\n",
       "</table>\n",
       "</div>"
      ],
      "text/plain": [
       "   index body_part     patientID  \\\n",
       "0    261   FOREARM  patient00063   \n",
       "1    262   FOREARM  patient00063   \n",
       "2    275   FOREARM  patient00067   \n",
       "3    276   FOREARM  patient00067   \n",
       "4    286   FOREARM  patient00069   \n",
       "\n",
       "                                             filename  abnormal_XR  \\\n",
       "0  XR_FOREARM/patient00063/study1_positive/image1.png            1   \n",
       "1  XR_FOREARM/patient00063/study1_positive/image2.png            1   \n",
       "2  XR_FOREARM/patient00067/study1_negative/image1.png            0   \n",
       "3  XR_FOREARM/patient00067/study1_negative/image2.png            0   \n",
       "4  XR_FOREARM/patient00069/study1_negative/image1.png            0   \n",
       "\n",
       "   patient_any_abnormal  body_part_abnormal image_cat  \n",
       "0                   1.0                 1.0     train  \n",
       "1                   1.0                 1.0     train  \n",
       "2                   0.5                 0.0     train  \n",
       "3                   0.5                 0.0     train  \n",
       "4                   0.5                 0.0     train  "
      ]
     },
     "execution_count": 256,
     "metadata": {},
     "output_type": "execute_result"
    }
   ],
   "source": [
    "#concatinate inscope dfs\n",
    "\n",
    "df_data_fore = pd.concat([df_train_data_fore,df_valid_data_fore], axis=0).reset_index()\n",
    "df_data_fore.to_csv(r\"C:\\Users\\srije\\Documents\\LJMU\\Dataset\\MURA-v1.1\\df_data_fore.csv\")\n",
    "df_data_fore.head()"
   ]
  },
  {
   "cell_type": "code",
   "execution_count": 257,
   "metadata": {},
   "outputs": [
    {
     "data": {
      "text/plain": [
       "(2126, 8)"
      ]
     },
     "execution_count": 257,
     "metadata": {},
     "output_type": "execute_result"
    }
   ],
   "source": [
    "df_data_fore.shape"
   ]
  },
  {
   "cell_type": "markdown",
   "metadata": {},
   "source": [
    "*Pre-processing*"
   ]
  },
  {
   "cell_type": "code",
   "execution_count": 260,
   "metadata": {},
   "outputs": [],
   "source": [
    "# add cropped and low_contrast columns of zeros\n",
    "df_data_fore['uncropped'] = 0\n",
    "df_data_fore['low_contrast'] = 0\n",
    "df_data_fore['inverted'] = 0\n",
    "df_data_fore['mask_filename'] = ''\n",
    "# the min area per body part\n",
    "forearm_min_areas = 6000"
   ]
  },
  {
   "cell_type": "code",
   "execution_count": 261,
   "metadata": {},
   "outputs": [
    {
     "data": {
      "text/html": [
       "<div>\n",
       "<style scoped>\n",
       "    .dataframe tbody tr th:only-of-type {\n",
       "        vertical-align: middle;\n",
       "    }\n",
       "\n",
       "    .dataframe tbody tr th {\n",
       "        vertical-align: top;\n",
       "    }\n",
       "\n",
       "    .dataframe thead th {\n",
       "        text-align: right;\n",
       "    }\n",
       "</style>\n",
       "<table border=\"1\" class=\"dataframe\">\n",
       "  <thead>\n",
       "    <tr style=\"text-align: right;\">\n",
       "      <th></th>\n",
       "      <th>index</th>\n",
       "      <th>body_part</th>\n",
       "      <th>patientID</th>\n",
       "      <th>filename</th>\n",
       "      <th>abnormal_XR</th>\n",
       "      <th>patient_any_abnormal</th>\n",
       "      <th>body_part_abnormal</th>\n",
       "      <th>image_cat</th>\n",
       "      <th>uncropped</th>\n",
       "      <th>low_contrast</th>\n",
       "      <th>inverted</th>\n",
       "      <th>mask_filename</th>\n",
       "    </tr>\n",
       "  </thead>\n",
       "  <tbody>\n",
       "    <tr>\n",
       "      <th>0</th>\n",
       "      <td>261</td>\n",
       "      <td>FOREARM</td>\n",
       "      <td>patient00063</td>\n",
       "      <td>XR_FOREARM/patient00063/study1_positive/image1.png</td>\n",
       "      <td>1</td>\n",
       "      <td>1.0</td>\n",
       "      <td>1.0</td>\n",
       "      <td>train</td>\n",
       "      <td>0</td>\n",
       "      <td>0</td>\n",
       "      <td>0</td>\n",
       "      <td></td>\n",
       "    </tr>\n",
       "    <tr>\n",
       "      <th>1</th>\n",
       "      <td>262</td>\n",
       "      <td>FOREARM</td>\n",
       "      <td>patient00063</td>\n",
       "      <td>XR_FOREARM/patient00063/study1_positive/image2.png</td>\n",
       "      <td>1</td>\n",
       "      <td>1.0</td>\n",
       "      <td>1.0</td>\n",
       "      <td>train</td>\n",
       "      <td>0</td>\n",
       "      <td>0</td>\n",
       "      <td>0</td>\n",
       "      <td></td>\n",
       "    </tr>\n",
       "    <tr>\n",
       "      <th>2</th>\n",
       "      <td>275</td>\n",
       "      <td>FOREARM</td>\n",
       "      <td>patient00067</td>\n",
       "      <td>XR_FOREARM/patient00067/study1_negative/image1.png</td>\n",
       "      <td>0</td>\n",
       "      <td>0.5</td>\n",
       "      <td>0.0</td>\n",
       "      <td>train</td>\n",
       "      <td>0</td>\n",
       "      <td>0</td>\n",
       "      <td>0</td>\n",
       "      <td></td>\n",
       "    </tr>\n",
       "    <tr>\n",
       "      <th>3</th>\n",
       "      <td>276</td>\n",
       "      <td>FOREARM</td>\n",
       "      <td>patient00067</td>\n",
       "      <td>XR_FOREARM/patient00067/study1_negative/image2.png</td>\n",
       "      <td>0</td>\n",
       "      <td>0.5</td>\n",
       "      <td>0.0</td>\n",
       "      <td>train</td>\n",
       "      <td>0</td>\n",
       "      <td>0</td>\n",
       "      <td>0</td>\n",
       "      <td></td>\n",
       "    </tr>\n",
       "    <tr>\n",
       "      <th>4</th>\n",
       "      <td>286</td>\n",
       "      <td>FOREARM</td>\n",
       "      <td>patient00069</td>\n",
       "      <td>XR_FOREARM/patient00069/study1_negative/image1.png</td>\n",
       "      <td>0</td>\n",
       "      <td>0.5</td>\n",
       "      <td>0.0</td>\n",
       "      <td>train</td>\n",
       "      <td>0</td>\n",
       "      <td>0</td>\n",
       "      <td>0</td>\n",
       "      <td></td>\n",
       "    </tr>\n",
       "  </tbody>\n",
       "</table>\n",
       "</div>"
      ],
      "text/plain": [
       "   index body_part     patientID  \\\n",
       "0    261   FOREARM  patient00063   \n",
       "1    262   FOREARM  patient00063   \n",
       "2    275   FOREARM  patient00067   \n",
       "3    276   FOREARM  patient00067   \n",
       "4    286   FOREARM  patient00069   \n",
       "\n",
       "                                             filename  abnormal_XR  \\\n",
       "0  XR_FOREARM/patient00063/study1_positive/image1.png            1   \n",
       "1  XR_FOREARM/patient00063/study1_positive/image2.png            1   \n",
       "2  XR_FOREARM/patient00067/study1_negative/image1.png            0   \n",
       "3  XR_FOREARM/patient00067/study1_negative/image2.png            0   \n",
       "4  XR_FOREARM/patient00069/study1_negative/image1.png            0   \n",
       "\n",
       "   patient_any_abnormal  body_part_abnormal image_cat  uncropped  \\\n",
       "0                   1.0                 1.0     train          0   \n",
       "1                   1.0                 1.0     train          0   \n",
       "2                   0.5                 0.0     train          0   \n",
       "3                   0.5                 0.0     train          0   \n",
       "4                   0.5                 0.0     train          0   \n",
       "\n",
       "   low_contrast  inverted mask_filename  \n",
       "0             0         0                \n",
       "1             0         0                \n",
       "2             0         0                \n",
       "3             0         0                \n",
       "4             0         0                "
      ]
     },
     "execution_count": 261,
     "metadata": {},
     "output_type": "execute_result"
    }
   ],
   "source": [
    "df_data_fore.head()"
   ]
  },
  {
   "cell_type": "code",
   "execution_count": 252,
   "metadata": {},
   "outputs": [],
   "source": [
    "# print('-'*120 + '\\n' + 'PREPROCESSING'.center(120) + '\\n' + '-'*120)"
   ]
  },
  {
   "cell_type": "code",
   "execution_count": 312,
   "metadata": {},
   "outputs": [
    {
     "data": {
      "text/plain": [
       "'C:\\\\Users\\\\srije\\\\Documents\\\\LJMU\\\\Dataset\\\\MURA-v1.1\\\\valid_transformed\\\\XR_FOREARM\\\\patient00063\\\\study1_positive\\\\image1.png'"
      ]
     },
     "execution_count": 312,
     "metadata": {},
     "output_type": "execute_result"
    }
   ],
   "source": [
    "# print(train_pth[:-19])\n",
    "#       +\"XR_FOREARM/patient00063/study1_positive/image1.png\".replace(\"/\",\"\\\\\\\\\"))\n",
    "\n",
    "# skimage.io.imread(\"C:\\\\Users\\\\srije\\\\Documents\\\\LJMU\\\\Dataset\\\\MURA-v1.1\\\\train\\\\XR_FOREARM\\\\patient00063\\\\study1_positive\\\\image1.png\")\n",
    "\n",
    "# df_data_fore.loc[df_data_fore['filename']==\"XR_FOREARM/patient00067/study1_negative/image1.png\",\"uncropped\"]\n",
    "# df_data_fore[['filename', 'image_cat']].values\n",
    "\n",
    "# i = df_data_fore.loc[df_data_fore['filename']==\"XR_FOREARM/patient00063/study1_positive/image1.png\",\"image_cat\"].values\n",
    "# print(i)\n",
    "\n",
    "# train_pth[:-18]+\"\\\\train_transformed\\\\\"+\"XR_FOREARM/patient00063/study1_positive/image1.png\".replace(\"/\",\"\\\\\\\\\")[:-10]\n",
    "# skimage.io.imsave?\n",
    "\n",
    "train_pth[:-18]+\"\\\\valid_transformed\\\\\"+\"XR_FOREARM/patient00063/study1_positive/image1.png\".replace(\"/\",\"\\\\\")"
   ]
  },
  {
   "cell_type": "code",
   "execution_count": null,
   "metadata": {},
   "outputs": [
    {
     "name": "stderr",
     "output_type": "stream",
     "text": [
      "C:\\Users\\srije\\Documents\\LJMU\\Code\\preprocessing\\segmentation.py:35: FutureWarning: skimage.util.pad is deprecated and will be removed in version 0.19. Please use numpy.pad instead.\n",
      "  mask = skimage.util.pad(mask, pad_width=pad_val)\n"
     ]
    }
   ],
   "source": [
    "\n",
    "for fn, imgc in df_data_fore[['filename', 'image_cat']].values:\n",
    "\n",
    "    if imgc == \"train\":\n",
    "        file_path = train_pth[:-11]+fn.replace(\"/\",\"\\\\\\\\\")\n",
    "        write_dir = train_pth[:-18]+\"\\\\train_transformed\\\\\"+fn.replace(\"/\",\"\\\\\")\n",
    "    else:\n",
    "        file_path = valid_pth[:-11]+fn.replace(\"/\",\"\\\\\\\\\")\n",
    "        write_dir = train_pth[:-18]+\"\\\\valid_transformed\\\\\"+fn.replace(\"/\",\"\\\\\")\n",
    "        \n",
    "    img = skimage.io.imread(file_path)\n",
    "    \n",
    "    ####################### Cropping ###########################\n",
    "    # get squares\n",
    "    squares = find_squares(img, min_area=forearm_min_areas)\n",
    "    # crop square\n",
    "    if squares:\n",
    "        img = crop_squares(squares, img)\n",
    "    else:\n",
    "        df_data_fore.loc[df_data_fore['filename']==fn,\"uncropped\"] = 1\n",
    "    # save image if image and check if not low contrast (i.e. only black)\n",
    "    try:\n",
    "        os.makedirs(write_dir[:-10])\n",
    "    except:\n",
    "        skimage.io.imsave(write_dir, img, check_contrast=False)\n",
    "    # add info to dataframe\n",
    "    if skimage.exposure.is_low_contrast(img):\n",
    "        df_data_fore.loc[df_data_fore['filename']==fn,'low_contrast'] = 1\n",
    "        \n",
    "    \n",
    "    ##################### Segmentation #########################\n",
    "    # invert bright image\n",
    "    if img.mean() > 125:\n",
    "        img = np.invert(img)\n",
    "        df_data_fore.loc[df_data_fore['filename']==fn,'inverted'] = 1\n",
    "    # get best mask\n",
    "    mask = find_best_mask(img)\n",
    "    # save mask\n",
    "    skimage.io.imsave(write_dir[:-10]+'mask_'+write_dir[-10:], skimage.img_as_ubyte(mask), check_contrast=False)\n",
    "    df_data_fore.loc[df_data_fore['filename']==fn, 'mask_filename'] = fn[:-10]+'mask_'+fn[-10:]"
   ]
  },
  {
   "cell_type": "code",
   "execution_count": null,
   "metadata": {},
   "outputs": [],
   "source": []
  }
 ],
 "metadata": {
  "kernelspec": {
   "display_name": "Python 3",
   "language": "python",
   "name": "python3"
  },
  "language_info": {
   "codemirror_mode": {
    "name": "ipython",
    "version": 3
   },
   "file_extension": ".py",
   "mimetype": "text/x-python",
   "name": "python",
   "nbconvert_exporter": "python",
   "pygments_lexer": "ipython3",
   "version": "3.7.4"
  }
 },
 "nbformat": 4,
 "nbformat_minor": 4
}
